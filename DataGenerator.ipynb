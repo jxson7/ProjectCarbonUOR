{
 "cells": [
  {
   "cell_type": "code",
   "execution_count": 2,
   "id": "f1af6d82",
   "metadata": {},
   "outputs": [],
   "source": [
    "import csv\n",
    "import random\n",
    "\n",
    "# List of departments\n",
    "departments = ['ComputerScience', 'MathAndStats', 'Meterology', 'Walker']\n",
    "\n",
    "# Generate 500 lines of random data\n",
    "data = []\n",
    "for i in range(500):\n",
    "    data_urn = ''.join(random.choices('ABCDEFGHIJKLMNOPQRSTUVWXYZ', k=2)) + ''.join(random.choices('0123456789', k=6))\n",
    "    department = random.choice(departments)\n",
    "    date = f'{random.randint(1, 31)}/{random.randint(1, 12)}/{random.randint(21, 23)}'\n",
    "    mode_of_transport = random.choice(['car', 'train', 'bus', 'taxi', 'other'])\n",
    "    estimated_mileage = random.randint(1, 100)\n",
    "    estimated_co2eq = random.randint(1, 50)\n",
    "    username = f'user{i % 10}'  # Generate 10 usernames\n",
    "    data.append([data_urn, department, date, mode_of_transport, estimated_mileage, estimated_co2eq, username])\n",
    "\n",
    "# Write data to CSV file\n",
    "with open('data.csv', mode='w', newline='') as file:\n",
    "    writer = csv.writer(file)\n",
    "    writer.writerow(['Data URN', 'Department', 'Date', 'Mode of Transport', 'Estimated Mileage (miles)', 'Estimated CO2EQ', 'Username'])\n",
    "    for row in data:\n",
    "        writer.writerow(row)"
   ]
  }
 ],
 "metadata": {
  "kernelspec": {
   "display_name": "Python 3 (ipykernel)",
   "language": "python",
   "name": "python3"
  },
  "language_info": {
   "codemirror_mode": {
    "name": "ipython",
    "version": 3
   },
   "file_extension": ".py",
   "mimetype": "text/x-python",
   "name": "python",
   "nbconvert_exporter": "python",
   "pygments_lexer": "ipython3",
   "version": "3.9.7"
  }
 },
 "nbformat": 4,
 "nbformat_minor": 5
}
